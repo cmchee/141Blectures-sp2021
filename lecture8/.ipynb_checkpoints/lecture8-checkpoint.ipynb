{
 "cells": [
  {
   "cell_type": "markdown",
   "metadata": {
    "slideshow": {
     "slide_type": "slide"
    }
   },
   "source": [
    "## Relational Databases\n",
    "\n",
    "### Relational Database Management Systems (RDBMS)\n",
    "\n",
    "Relational database management systems (RDBMS) is a database system that is based on the relational model of <a href=\"http://www.seas.upenn.edu/~zives/03f/cis550/codd.pdf\">Codd, \"A Relational Model of Data for Large Shared Data Banks\", 1970.</a>\n",
    "\n",
    "- a computer application that stores data in a structured way, and allows users to interact with that data.\n",
    "- organizes the data in tables\n",
    "\n",
    "A few fundamental properties of the relational model (from Codd 1970):\n",
    "\n",
    "1. Each row is an n-tuple\n",
    "2. The ordering or rows is unimportant\n",
    "3. The rows are distinct\n",
    "4. The ordering of columns is significant because each corresponds to a unique attribute\n",
    "5. Each column has a descriptive name"
   ]
  },
  {
   "cell_type": "markdown",
   "metadata": {
    "slideshow": {
     "slide_type": "slide"
    }
   },
   "source": [
    "The main advantage of having a separate language SQL that works over many RDBMSs is that we can write code that works regardless of the database engine.\n",
    "\n",
    "The paper, Codd 1970, begins with the following,\n",
    "\n",
    "> \"Future users of large data banks must be protected from\n",
    "having to know how the data is organized in the machine (the\n",
    "internal representation). A prompting service which supplies\n",
    "such information is not a satisfactory solution. Activities of users\n",
    "at terminals and most application programs should remain\n",
    "unaffected when the internal representation of data is changed\n",
    "and even when some aspects of the external representation\n",
    "are changed.\" Codd 1970."
   ]
  },
  {
   "cell_type": "markdown",
   "metadata": {
    "slideshow": {
     "slide_type": "slide"
    }
   },
   "source": [
    "  The top RDBMSs are \n",
    "  - Oracle Database, \n",
    "  - Microsoft SQL Server, \n",
    "  - MySQL,\n",
    "  - SQLite"
   ]
  },
  {
   "cell_type": "markdown",
   "metadata": {
    "slideshow": {
     "slide_type": "slide"
    }
   },
   "source": [
    "### Structured Query Language (SQL)\n",
    "\n",
    "SQL is a declarative language in that it is based on logical statements that are interpreted by the RDBMS.\n",
    "\n",
    "You can create a table with the code,\n",
    "\n",
    "```\n",
    "create table animals (\n",
    "    name text,\n",
    "    species text,\n",
    "    age integer,\n",
    "    shelter_id integer)\n",
    "```\n",
    "- generate an empty table called animals that has 4 columns."
   ]
  },
  {
   "cell_type": "markdown",
   "metadata": {
    "slideshow": {
     "slide_type": "slide"
    }
   },
   "source": [
    "### Basic commands\n",
    "\n",
    "You can then insert rows into the table with\n",
    "```\n",
    "insert into animals values (\"Emmy\", \"dog\", 1, \"CA\")\n",
    "```\n",
    "\n",
    "Furthermore, we can retrieve records with the select statement by\n",
    "```\n",
    "select * from animals\n",
    "```\n",
    "which will return the entire animals table."
   ]
  },
  {
   "cell_type": "markdown",
   "metadata": {
    "slideshow": {
     "slide_type": "slide"
    }
   },
   "source": [
    "### Functions and Clauses\n",
    "\n",
    "You can add a \"where\" clause to the select statement: \n",
    "```\n",
    "select * from animals where species=\"dog\"\n",
    "```\n",
    "This will select only the records with the species set to 'dog'.\n",
    "Other operators can be used, such as ``=,<,>,!=,between,like,in,is not null, as``, where 'like' will match patterns for text, and 'as' can change a field name in the select statement.\n",
    "\n",
    "You can apply functions and select specific columns with the select statement as in \n",
    "```\n",
    "select name, log(age + 1) from animals\n",
    "```    \n",
    "Moreover, there are aggregating functions such as in \n",
    "```\n",
    "select count(*) from animals\n",
    "```\n",
    "which will return the number of records."
   ]
  },
  {
   "cell_type": "markdown",
   "metadata": {
    "slideshow": {
     "slide_type": "slide"
    }
   },
   "source": [
    "### Functions and Clauses\n",
    "\n",
    "The group by clause, as in \n",
    "```\n",
    "select avg(age), count(*) from animals group by species\n",
    "```\n",
    "will group the records by species and then apply aggregations within the groups.\n",
    "Another common clause is the order by clause as in \n",
    "```\n",
    "select name from animals where species=\"dog\" order by age\n",
    "```\n",
    "will return the dogs in ascending order of age.\n",
    "The groupby and aggregation operations are already familiar to those familiar with Pandas.  You should think of the SQL grammar as the basis for the interface to DataFrames."
   ]
  },
  {
   "cell_type": "markdown",
   "metadata": {
    "slideshow": {
     "slide_type": "slide"
    }
   },
   "source": [
    "### Other statements\n",
    "\n",
    "Other statements: ``insert, update, alter table, drop table``.\n",
    "\n",
    "- With insert you can add records, and update will let you modify records.\n",
    "- With alter table you can add and drop columns, and drop table will remove the table all together.\n",
    "\n",
    "In day to day operations of data scientists, select statements are extremely common, where modifications to existing tables are done offline in scripts.\n",
    "In this lesson we will use pandas to construct the table and make the sql select statements."
   ]
  },
  {
   "cell_type": "markdown",
   "metadata": {
    "slideshow": {
     "slide_type": "slide"
    }
   },
   "source": [
    "### Joins tables\n",
    "\n",
    "We have already talked about joining tables.\n",
    "To see the animals in a county, then we will need to join these tables.\n",
    "We can do this by\n",
    "```\n",
    "select * from animals join shelters on animals.shelter_id = shelters.id\n",
    "```\n",
    "Outer join is done by \n",
    "```\n",
    "select * from animals outer join shelters on animals.shelter_id = shelters.id\n",
    "```\n",
    "inner join is similar."
   ]
  },
  {
   "cell_type": "markdown",
   "metadata": {
    "slideshow": {
     "slide_type": "slide"
    }
   },
   "source": [
    "### Pandas and SQLAlchemy\n",
    "\n",
    "- The sqlalchemy package provide a unified way to interact with many different RDBMSs.\n",
    "- You have to begin by initializing the connection to a database, which is done by the <code>create_engine</code> command.\n",
    "\n",
    "```\n",
    "from sqlalchemy import create_engine\n",
    "    disk_engine = create_engine('sqlite:///pets.sqlite')\n",
    "```\n",
    "\n",
    "- creates the connection to the sqlite file that will contain your database.\n",
    "- you can use the methods: <code>pd.to_sql, pd.read_sql_query</code>.\n",
    "- A typical way to use pandas then would be to construct the table in chunks and write to the database."
   ]
  },
  {
   "cell_type": "code",
   "execution_count": null,
   "metadata": {
    "slideshow": {
     "slide_type": "slide"
    }
   },
   "outputs": [],
   "source": [
    "import pandas as pd\n",
    "from matplotlib import pyplot as plt\n",
    "import sqlalchemy as sqla\n",
    "plt.style.use('ggplot')"
   ]
  },
  {
   "cell_type": "markdown",
   "metadata": {
    "slideshow": {
     "slide_type": "slide"
    }
   },
   "source": [
    "### Reading in chunks with Pandas\n",
    "\n",
    "- set ``chunksize`` to create a DataFrameReader\n",
    "- Iterable which returns the file in sequence\n",
    "- Work on first chunk to convert to table"
   ]
  },
  {
   "cell_type": "code",
   "execution_count": 4,
   "metadata": {
    "slideshow": {
     "slide_type": "fragment"
    }
   },
   "outputs": [],
   "source": [
    "nycjobs_reader = pd.read_csv('data/DOB_Job_Application_Filings.csv',\n",
    "                             chunksize=10000,low_memory=False,encoding='latin-1')"
   ]
  },
  {
   "cell_type": "code",
   "execution_count": 5,
   "metadata": {
    "slideshow": {
     "slide_type": "slide"
    }
   },
   "outputs": [
    {
     "name": "stdout",
     "output_type": "stream",
     "text": [
      "<class 'pandas.core.frame.DataFrame'>\n",
      "RangeIndex: 10000 entries, 0 to 9999\n",
      "Data columns (total 96 columns):\n",
      "Job #                            10000 non-null int64\n",
      "Doc #                            10000 non-null int64\n",
      "Borough                          10000 non-null object\n",
      "House #                          10000 non-null object\n",
      "Street Name                      10000 non-null object\n",
      "Block                            9998 non-null float64\n",
      "Lot                              9998 non-null float64\n",
      "Bin #                            10000 non-null int64\n",
      "Job Type                         10000 non-null object\n",
      "Job Status                       10000 non-null object\n",
      "Job Status Descrp                10000 non-null object\n",
      "Latest Action Date               10000 non-null object\n",
      "Building Type                    10000 non-null object\n",
      "Community - Board                10000 non-null int64\n",
      "Cluster                          9177 non-null object\n",
      "Landmarked                       9817 non-null object\n",
      "Adult Estab                      8498 non-null object\n",
      "Loft Board                       9493 non-null object\n",
      "City Owned                       824 non-null object\n",
      "Little e                         8151 non-null object\n",
      "PC Filed                         656 non-null object\n",
      "eFiling Filed                    9146 non-null object\n",
      "Plumbing                         3489 non-null object\n",
      "Mechanical                       2059 non-null object\n",
      "Boiler                           244 non-null object\n",
      "Fuel Burning                     60 non-null object\n",
      "Fuel Storage                     66 non-null object\n",
      "Standpipe                        134 non-null object\n",
      "Sprinkler                        904 non-null object\n",
      "Fire Alarm                       650 non-null object\n",
      "Equipment                        1098 non-null object\n",
      "Fire Suppression                 175 non-null object\n",
      "Curb Cut                         178 non-null object\n",
      "Other                            6192 non-null object\n",
      "Other Description                6189 non-null object\n",
      "Applicant's First Name           10000 non-null object\n",
      "Applicant's Last Name            10000 non-null object\n",
      "Applicant Professional Title     10000 non-null object\n",
      "Applicant License #              9900 non-null float64\n",
      "Professional Cert                9472 non-null object\n",
      "Pre- Filing Date                 10000 non-null object\n",
      "Paid                             9947 non-null object\n",
      "Fully Paid                       9958 non-null object\n",
      "Assigned                         7032 non-null object\n",
      "Approved                         6939 non-null object\n",
      "Fully Permitted                  5413 non-null object\n",
      "Initial Cost                     10000 non-null object\n",
      "Total Est. Fee                   10000 non-null object\n",
      "Fee Status                       10000 non-null object\n",
      "Existing Zoning Sqft             10000 non-null int64\n",
      "Proposed Zoning Sqft             10000 non-null int64\n",
      "Horizontal Enlrgmt               365 non-null object\n",
      "Vertical Enlrgmt                 288 non-null object\n",
      "Enlargement SQ Footage           10000 non-null int64\n",
      "Street Frontage                  10000 non-null int64\n",
      "ExistingNo. of Stories           10000 non-null int64\n",
      "Proposed No. of Stories          10000 non-null int64\n",
      "Existing Height                  10000 non-null int64\n",
      "Proposed Height                  10000 non-null int64\n",
      "Existing Dwelling Units          4952 non-null float64\n",
      "Proposed Dwelling Units          5479 non-null float64\n",
      "Existing Occupancy               7496 non-null object\n",
      "Proposed Occupancy               7677 non-null object\n",
      "Site Fill                        7653 non-null object\n",
      "Zoning Dist1                     8428 non-null object\n",
      "Zoning Dist2                     1039 non-null object\n",
      "Zoning Dist3                     67 non-null object\n",
      "Special District 1               1856 non-null object\n",
      "Special District 2               553 non-null object\n",
      "Owner Type                       9875 non-null object\n",
      "Non-Profit                       9877 non-null object\n",
      "Owner's First Name               9999 non-null object\n",
      "Owner's Last Name                9999 non-null object\n",
      "Owner's Business Name            8076 non-null object\n",
      "Owner's House Number             10000 non-null object\n",
      "Owner'sHouse Street Name         10000 non-null object\n",
      "City                             10000 non-null object\n",
      "State                            10000 non-null object\n",
      "Zip                              10000 non-null int64\n",
      "Owner'sPhone #                   9990 non-null object\n",
      "Job Description                  9826 non-null object\n",
      "DOBRunDate                       10000 non-null object\n",
      "JOB_S1_NO                        10000 non-null int64\n",
      "TOTAL_CONSTRUCTION_FLOOR_AREA    10000 non-null int64\n",
      "WITHDRAWAL_FLAG                  10000 non-null int64\n",
      "SIGNOFF_DATE                     2163 non-null object\n",
      "SPECIAL_ACTION_STATUS            9910 non-null object\n",
      "SPECIAL_ACTION_DATE              605 non-null object\n",
      "BUILDING_CLASS                   9936 non-null object\n",
      "JOB_NO_GOOD_COUNT                10000 non-null int64\n",
      "GIS_LATITUDE                     9901 non-null float64\n",
      "GIS_LONGITUDE                    9901 non-null float64\n",
      "GIS_COUNCIL_DISTRICT             9901 non-null float64\n",
      "GIS_CENSUS_TRACT                 9901 non-null float64\n",
      "GIS_NTA_NAME                     9901 non-null object\n",
      "GIS_BIN                          9650 non-null float64\n",
      "dtypes: float64(10), int64(17), object(69)\n",
      "memory usage: 7.3+ MB\n"
     ]
    }
   ],
   "source": [
    "nycjobs_chunk = next(nycjobs_reader)\n",
    "nyc_cols = nycjobs_chunk.columns\n",
    "nycjobs_chunk.info()"
   ]
  },
  {
   "cell_type": "code",
   "execution_count": 12,
   "metadata": {
    "slideshow": {
     "slide_type": "slide"
    }
   },
   "outputs": [
    {
     "data": {
      "text/html": [
       "<div>\n",
       "<style scoped>\n",
       "    .dataframe tbody tr th:only-of-type {\n",
       "        vertical-align: middle;\n",
       "    }\n",
       "\n",
       "    .dataframe tbody tr th {\n",
       "        vertical-align: top;\n",
       "    }\n",
       "\n",
       "    .dataframe thead th {\n",
       "        text-align: right;\n",
       "    }\n",
       "</style>\n",
       "<table border=\"1\" class=\"dataframe\">\n",
       "  <thead>\n",
       "    <tr style=\"text-align: right;\">\n",
       "      <th></th>\n",
       "      <th>Job #</th>\n",
       "      <th>Doc #</th>\n",
       "      <th>Borough</th>\n",
       "      <th>House #</th>\n",
       "      <th>Street Name</th>\n",
       "      <th>Block</th>\n",
       "      <th>Lot</th>\n",
       "      <th>Bin #</th>\n",
       "      <th>Job Type</th>\n",
       "      <th>Job Status</th>\n",
       "      <th>...</th>\n",
       "      <th>SPECIAL_ACTION_STATUS</th>\n",
       "      <th>SPECIAL_ACTION_DATE</th>\n",
       "      <th>BUILDING_CLASS</th>\n",
       "      <th>JOB_NO_GOOD_COUNT</th>\n",
       "      <th>GIS_LATITUDE</th>\n",
       "      <th>GIS_LONGITUDE</th>\n",
       "      <th>GIS_COUNCIL_DISTRICT</th>\n",
       "      <th>GIS_CENSUS_TRACT</th>\n",
       "      <th>GIS_NTA_NAME</th>\n",
       "      <th>GIS_BIN</th>\n",
       "    </tr>\n",
       "  </thead>\n",
       "  <tbody>\n",
       "    <tr>\n",
       "      <th>1610000</th>\n",
       "      <td>301919020</td>\n",
       "      <td>1</td>\n",
       "      <td>BROOKLYN</td>\n",
       "      <td>25</td>\n",
       "      <td>COLUMBIA HEIGHTS</td>\n",
       "      <td>204.0</td>\n",
       "      <td>1.0</td>\n",
       "      <td>3001479</td>\n",
       "      <td>A2</td>\n",
       "      <td>X</td>\n",
       "      <td>...</td>\n",
       "      <td>N</td>\n",
       "      <td>NaN</td>\n",
       "      <td>O6</td>\n",
       "      <td>0</td>\n",
       "      <td>40.702030</td>\n",
       "      <td>-73.994550</td>\n",
       "      <td>33.0</td>\n",
       "      <td>1.0</td>\n",
       "      <td>Brooklyn Heights-Cobble Hill</td>\n",
       "      <td>3001479.0</td>\n",
       "    </tr>\n",
       "    <tr>\n",
       "      <th>1610001</th>\n",
       "      <td>301919057</td>\n",
       "      <td>1</td>\n",
       "      <td>BROOKLYN</td>\n",
       "      <td>611</td>\n",
       "      <td>GRAND STREET</td>\n",
       "      <td>2780.0</td>\n",
       "      <td>29.0</td>\n",
       "      <td>3069362</td>\n",
       "      <td>A3</td>\n",
       "      <td>X</td>\n",
       "      <td>...</td>\n",
       "      <td>N</td>\n",
       "      <td>NaN</td>\n",
       "      <td>C7</td>\n",
       "      <td>0</td>\n",
       "      <td>40.711288</td>\n",
       "      <td>-73.947734</td>\n",
       "      <td>34.0</td>\n",
       "      <td>503.0</td>\n",
       "      <td>East Williamsburg</td>\n",
       "      <td>3069362.0</td>\n",
       "    </tr>\n",
       "    <tr>\n",
       "      <th>1610002</th>\n",
       "      <td>301919075</td>\n",
       "      <td>1</td>\n",
       "      <td>BROOKLYN</td>\n",
       "      <td>2749</td>\n",
       "      <td>PITKIN AVENUE</td>\n",
       "      <td>4215.0</td>\n",
       "      <td>43.0</td>\n",
       "      <td>3094732</td>\n",
       "      <td>A2</td>\n",
       "      <td>X</td>\n",
       "      <td>...</td>\n",
       "      <td>N</td>\n",
       "      <td>NaN</td>\n",
       "      <td>S2</td>\n",
       "      <td>0</td>\n",
       "      <td>40.675600</td>\n",
       "      <td>-73.870623</td>\n",
       "      <td>42.0</td>\n",
       "      <td>1196.0</td>\n",
       "      <td>East New York</td>\n",
       "      <td>3094732.0</td>\n",
       "    </tr>\n",
       "    <tr>\n",
       "      <th>1610003</th>\n",
       "      <td>301919538</td>\n",
       "      <td>1</td>\n",
       "      <td>BROOKLYN</td>\n",
       "      <td>293</td>\n",
       "      <td>STERLING PLACE</td>\n",
       "      <td>1165.0</td>\n",
       "      <td>73.0</td>\n",
       "      <td>3029135</td>\n",
       "      <td>A2</td>\n",
       "      <td>R</td>\n",
       "      <td>...</td>\n",
       "      <td>N</td>\n",
       "      <td>NaN</td>\n",
       "      <td>C0</td>\n",
       "      <td>0</td>\n",
       "      <td>40.675668</td>\n",
       "      <td>-73.968318</td>\n",
       "      <td>35.0</td>\n",
       "      <td>207.0</td>\n",
       "      <td>Prospect Heights</td>\n",
       "      <td>3029135.0</td>\n",
       "    </tr>\n",
       "    <tr>\n",
       "      <th>1610004</th>\n",
       "      <td>301919100</td>\n",
       "      <td>1</td>\n",
       "      <td>BROOKLYN</td>\n",
       "      <td>735</td>\n",
       "      <td>MCDONALD AVENUE</td>\n",
       "      <td>5385.0</td>\n",
       "      <td>60.0</td>\n",
       "      <td>3348192</td>\n",
       "      <td>A1</td>\n",
       "      <td>R</td>\n",
       "      <td>...</td>\n",
       "      <td>N</td>\n",
       "      <td>NaN</td>\n",
       "      <td>E1</td>\n",
       "      <td>0</td>\n",
       "      <td>40.636280</td>\n",
       "      <td>-73.978198</td>\n",
       "      <td>39.0</td>\n",
       "      <td>486.0</td>\n",
       "      <td>Kensington-Ocean Parkway</td>\n",
       "      <td>3348192.0</td>\n",
       "    </tr>\n",
       "  </tbody>\n",
       "</table>\n",
       "<p>5 rows × 96 columns</p>\n",
       "</div>"
      ],
      "text/plain": [
       "             Job #  Doc #   Borough House #       Street Name   Block   Lot  \\\n",
       "1610000  301919020      1  BROOKLYN      25  COLUMBIA HEIGHTS   204.0   1.0   \n",
       "1610001  301919057      1  BROOKLYN     611      GRAND STREET  2780.0  29.0   \n",
       "1610002  301919075      1  BROOKLYN    2749     PITKIN AVENUE  4215.0  43.0   \n",
       "1610003  301919538      1  BROOKLYN     293    STERLING PLACE  1165.0  73.0   \n",
       "1610004  301919100      1  BROOKLYN     735   MCDONALD AVENUE  5385.0  60.0   \n",
       "\n",
       "           Bin # Job Type Job Status    ...     SPECIAL_ACTION_STATUS  \\\n",
       "1610000  3001479       A2          X    ...                         N   \n",
       "1610001  3069362       A3          X    ...                         N   \n",
       "1610002  3094732       A2          X    ...                         N   \n",
       "1610003  3029135       A2          R    ...                         N   \n",
       "1610004  3348192       A1          R    ...                         N   \n",
       "\n",
       "        SPECIAL_ACTION_DATE BUILDING_CLASS  JOB_NO_GOOD_COUNT GIS_LATITUDE  \\\n",
       "1610000                 NaN             O6                  0    40.702030   \n",
       "1610001                 NaN             C7                  0    40.711288   \n",
       "1610002                 NaN             S2                  0    40.675600   \n",
       "1610003                 NaN             C0                  0    40.675668   \n",
       "1610004                 NaN             E1                  0    40.636280   \n",
       "\n",
       "        GIS_LONGITUDE GIS_COUNCIL_DISTRICT GIS_CENSUS_TRACT  \\\n",
       "1610000    -73.994550                 33.0              1.0   \n",
       "1610001    -73.947734                 34.0            503.0   \n",
       "1610002    -73.870623                 42.0           1196.0   \n",
       "1610003    -73.968318                 35.0            207.0   \n",
       "1610004    -73.978198                 39.0            486.0   \n",
       "\n",
       "                         GIS_NTA_NAME    GIS_BIN  \n",
       "1610000  Brooklyn Heights-Cobble Hill  3001479.0  \n",
       "1610001             East Williamsburg  3069362.0  \n",
       "1610002                 East New York  3094732.0  \n",
       "1610003              Prospect Heights  3029135.0  \n",
       "1610004      Kensington-Ocean Parkway  3348192.0  \n",
       "\n",
       "[5 rows x 96 columns]"
      ]
     },
     "execution_count": 12,
     "metadata": {},
     "output_type": "execute_result"
    }
   ],
   "source": [
    "nycjobs_chunk.head()"
   ]
  },
  {
   "cell_type": "code",
   "execution_count": 8,
   "metadata": {
    "slideshow": {
     "slide_type": "slide"
    }
   },
   "outputs": [],
   "source": [
    "## Create database engine\n",
    "sqlite_file = 'data/nycjobs.sqlite'\n",
    "nyc_conn = sqla.create_engine('sqlite:///' + sqlite_file)"
   ]
  },
  {
   "cell_type": "code",
   "execution_count": 9,
   "metadata": {
    "slideshow": {
     "slide_type": "fragment"
    }
   },
   "outputs": [],
   "source": [
    "## Fill in dataframe\n",
    "nycjobs_chunk.to_sql('jobs',nyc_conn,if_exists='replace')\n",
    "for nycjobs_chunk in nycjobs_reader:\n",
    "    nycjobs_chunk.to_sql('jobs',nyc_conn,if_exists='append')"
   ]
  },
  {
   "cell_type": "code",
   "execution_count": 10,
   "metadata": {
    "slideshow": {
     "slide_type": "slide"
    }
   },
   "outputs": [
    {
     "data": {
      "text/html": [
       "<div>\n",
       "<style scoped>\n",
       "    .dataframe tbody tr th:only-of-type {\n",
       "        vertical-align: middle;\n",
       "    }\n",
       "\n",
       "    .dataframe tbody tr th {\n",
       "        vertical-align: top;\n",
       "    }\n",
       "\n",
       "    .dataframe thead th {\n",
       "        text-align: right;\n",
       "    }\n",
       "</style>\n",
       "<table border=\"1\" class=\"dataframe\">\n",
       "  <thead>\n",
       "    <tr style=\"text-align: right;\">\n",
       "      <th></th>\n",
       "      <th>count(*)</th>\n",
       "    </tr>\n",
       "  </thead>\n",
       "  <tbody>\n",
       "    <tr>\n",
       "      <th>0</th>\n",
       "      <td>1616028</td>\n",
       "    </tr>\n",
       "  </tbody>\n",
       "</table>\n",
       "</div>"
      ],
      "text/plain": [
       "   count(*)\n",
       "0   1616028"
      ]
     },
     "execution_count": 10,
     "metadata": {},
     "output_type": "execute_result"
    }
   ],
   "source": [
    "## count all records\n",
    "pd.read_sql_query(\"select count(*) from jobs\",nyc_conn)"
   ]
  },
  {
   "cell_type": "code",
   "execution_count": 11,
   "metadata": {
    "slideshow": {
     "slide_type": "fragment"
    }
   },
   "outputs": [
    {
     "data": {
      "text/html": [
       "<div>\n",
       "<style scoped>\n",
       "    .dataframe tbody tr th:only-of-type {\n",
       "        vertical-align: middle;\n",
       "    }\n",
       "\n",
       "    .dataframe tbody tr th {\n",
       "        vertical-align: top;\n",
       "    }\n",
       "\n",
       "    .dataframe thead th {\n",
       "        text-align: right;\n",
       "    }\n",
       "</style>\n",
       "<table border=\"1\" class=\"dataframe\">\n",
       "  <thead>\n",
       "    <tr style=\"text-align: right;\">\n",
       "      <th></th>\n",
       "      <th>count(*)</th>\n",
       "    </tr>\n",
       "  </thead>\n",
       "  <tbody>\n",
       "    <tr>\n",
       "      <th>0</th>\n",
       "      <td>533498</td>\n",
       "    </tr>\n",
       "  </tbody>\n",
       "</table>\n",
       "</div>"
      ],
      "text/plain": [
       "   count(*)\n",
       "0    533498"
      ]
     },
     "execution_count": 11,
     "metadata": {},
     "output_type": "execute_result"
    }
   ],
   "source": [
    "## where statement filters\n",
    "pd.read_sql_query(\"select count(*) from jobs where Plumbing='X'\",nyc_conn)"
   ]
  },
  {
   "cell_type": "code",
   "execution_count": 13,
   "metadata": {
    "slideshow": {
     "slide_type": "slide"
    }
   },
   "outputs": [
    {
     "data": {
      "text/html": [
       "<div>\n",
       "<style scoped>\n",
       "    .dataframe tbody tr th:only-of-type {\n",
       "        vertical-align: middle;\n",
       "    }\n",
       "\n",
       "    .dataframe tbody tr th {\n",
       "        vertical-align: top;\n",
       "    }\n",
       "\n",
       "    .dataframe thead th {\n",
       "        text-align: right;\n",
       "    }\n",
       "</style>\n",
       "<table border=\"1\" class=\"dataframe\">\n",
       "  <thead>\n",
       "    <tr style=\"text-align: right;\">\n",
       "      <th></th>\n",
       "      <th>Plumbing</th>\n",
       "      <th>count</th>\n",
       "    </tr>\n",
       "  </thead>\n",
       "  <tbody>\n",
       "    <tr>\n",
       "      <th>0</th>\n",
       "      <td>None</td>\n",
       "      <td>1082530</td>\n",
       "    </tr>\n",
       "    <tr>\n",
       "      <th>1</th>\n",
       "      <td>X</td>\n",
       "      <td>533498</td>\n",
       "    </tr>\n",
       "  </tbody>\n",
       "</table>\n",
       "</div>"
      ],
      "text/plain": [
       "  Plumbing    count\n",
       "0     None  1082530\n",
       "1        X   533498"
      ]
     },
     "execution_count": 13,
     "metadata": {},
     "output_type": "execute_result"
    }
   ],
   "source": [
    "## groupby operation\n",
    "pd.read_sql_query(\"select Plumbing, count(*) as count from jobs group by Plumbing\",nyc_conn)"
   ]
  },
  {
   "cell_type": "code",
   "execution_count": 14,
   "metadata": {
    "slideshow": {
     "slide_type": "slide"
    }
   },
   "outputs": [],
   "source": [
    "## Multiline query\n",
    "sql_query = \"\"\"\n",
    "select * from jobs \n",
    "where Plumbing='X' \n",
    "order by \"Initial Cost\" desc\n",
    "limit 5000\n",
    "\"\"\"\n",
    "plumbing = pd.read_sql_query(sql_query,nyc_conn)"
   ]
  },
  {
   "cell_type": "code",
   "execution_count": 15,
   "metadata": {
    "slideshow": {
     "slide_type": "slide"
    }
   },
   "outputs": [
    {
     "data": {
      "text/html": [
       "<div>\n",
       "<style scoped>\n",
       "    .dataframe tbody tr th:only-of-type {\n",
       "        vertical-align: middle;\n",
       "    }\n",
       "\n",
       "    .dataframe tbody tr th {\n",
       "        vertical-align: top;\n",
       "    }\n",
       "\n",
       "    .dataframe thead th {\n",
       "        text-align: right;\n",
       "    }\n",
       "</style>\n",
       "<table border=\"1\" class=\"dataframe\">\n",
       "  <thead>\n",
       "    <tr style=\"text-align: right;\">\n",
       "      <th></th>\n",
       "      <th>index</th>\n",
       "      <th>Job #</th>\n",
       "      <th>Doc #</th>\n",
       "      <th>Borough</th>\n",
       "      <th>House #</th>\n",
       "      <th>Street Name</th>\n",
       "      <th>Block</th>\n",
       "      <th>Lot</th>\n",
       "      <th>Bin #</th>\n",
       "      <th>Job Type</th>\n",
       "      <th>...</th>\n",
       "      <th>SPECIAL_ACTION_STATUS</th>\n",
       "      <th>SPECIAL_ACTION_DATE</th>\n",
       "      <th>BUILDING_CLASS</th>\n",
       "      <th>JOB_NO_GOOD_COUNT</th>\n",
       "      <th>GIS_LATITUDE</th>\n",
       "      <th>GIS_LONGITUDE</th>\n",
       "      <th>GIS_COUNCIL_DISTRICT</th>\n",
       "      <th>GIS_CENSUS_TRACT</th>\n",
       "      <th>GIS_NTA_NAME</th>\n",
       "      <th>GIS_BIN</th>\n",
       "    </tr>\n",
       "  </thead>\n",
       "  <tbody>\n",
       "    <tr>\n",
       "      <th>0</th>\n",
       "      <td>874889</td>\n",
       "      <td>120653417</td>\n",
       "      <td>1</td>\n",
       "      <td>MANHATTAN</td>\n",
       "      <td>1817</td>\n",
       "      <td>2ND AVE</td>\n",
       "      <td>1540.0</td>\n",
       "      <td>22.0</td>\n",
       "      <td>1049222</td>\n",
       "      <td>A2</td>\n",
       "      <td>...</td>\n",
       "      <td>N</td>\n",
       "      <td>None</td>\n",
       "      <td>C7</td>\n",
       "      <td>0</td>\n",
       "      <td>40.783041</td>\n",
       "      <td>-73.947981</td>\n",
       "      <td>5.0</td>\n",
       "      <td>15601.0</td>\n",
       "      <td>Yorkville</td>\n",
       "      <td>1049222.0</td>\n",
       "    </tr>\n",
       "    <tr>\n",
       "      <th>1</th>\n",
       "      <td>196474</td>\n",
       "      <td>402326595</td>\n",
       "      <td>1</td>\n",
       "      <td>QUEENS</td>\n",
       "      <td>5005</td>\n",
       "      <td>31 AVENUE</td>\n",
       "      <td>752.0</td>\n",
       "      <td>1.0</td>\n",
       "      <td>4014094</td>\n",
       "      <td>A2</td>\n",
       "      <td>...</td>\n",
       "      <td>N</td>\n",
       "      <td>None</td>\n",
       "      <td>W1</td>\n",
       "      <td>0</td>\n",
       "      <td>40.757499</td>\n",
       "      <td>-73.908898</td>\n",
       "      <td>22.0</td>\n",
       "      <td>163.0</td>\n",
       "      <td>Astoria</td>\n",
       "      <td>4014094.0</td>\n",
       "    </tr>\n",
       "    <tr>\n",
       "      <th>2</th>\n",
       "      <td>1467329</td>\n",
       "      <td>104288245</td>\n",
       "      <td>1</td>\n",
       "      <td>MANHATTAN</td>\n",
       "      <td>157</td>\n",
       "      <td>WEST   85 STREET</td>\n",
       "      <td>1216.0</td>\n",
       "      <td>8.0</td>\n",
       "      <td>1032143</td>\n",
       "      <td>A2</td>\n",
       "      <td>...</td>\n",
       "      <td>N</td>\n",
       "      <td>None</td>\n",
       "      <td>C5</td>\n",
       "      <td>0</td>\n",
       "      <td>40.786473</td>\n",
       "      <td>-73.974231</td>\n",
       "      <td>6.0</td>\n",
       "      <td>169.0</td>\n",
       "      <td>Upper West Side</td>\n",
       "      <td>1032143.0</td>\n",
       "    </tr>\n",
       "    <tr>\n",
       "      <th>3</th>\n",
       "      <td>1198381</td>\n",
       "      <td>421344833</td>\n",
       "      <td>1</td>\n",
       "      <td>QUEENS</td>\n",
       "      <td>61-25</td>\n",
       "      <td>98TH STREET</td>\n",
       "      <td>2093.0</td>\n",
       "      <td>1.0</td>\n",
       "      <td>4431961</td>\n",
       "      <td>A2</td>\n",
       "      <td>...</td>\n",
       "      <td>N</td>\n",
       "      <td>None</td>\n",
       "      <td>D4</td>\n",
       "      <td>0</td>\n",
       "      <td>40.734257</td>\n",
       "      <td>-73.860517</td>\n",
       "      <td>29.0</td>\n",
       "      <td>71702.0</td>\n",
       "      <td>Rego Park</td>\n",
       "      <td>4431961.0</td>\n",
       "    </tr>\n",
       "    <tr>\n",
       "      <th>4</th>\n",
       "      <td>943912</td>\n",
       "      <td>320528185</td>\n",
       "      <td>1</td>\n",
       "      <td>BROOKLYN</td>\n",
       "      <td>237</td>\n",
       "      <td>PARKVILLE AVENUE</td>\n",
       "      <td>5424.0</td>\n",
       "      <td>77.0</td>\n",
       "      <td>3127947</td>\n",
       "      <td>A1</td>\n",
       "      <td>...</td>\n",
       "      <td>N</td>\n",
       "      <td>None</td>\n",
       "      <td>A5</td>\n",
       "      <td>0</td>\n",
       "      <td>40.631530</td>\n",
       "      <td>-73.970112</td>\n",
       "      <td>40.0</td>\n",
       "      <td>482.0</td>\n",
       "      <td>Flatbush</td>\n",
       "      <td>3127947.0</td>\n",
       "    </tr>\n",
       "  </tbody>\n",
       "</table>\n",
       "<p>5 rows × 97 columns</p>\n",
       "</div>"
      ],
      "text/plain": [
       "     index      Job #  Doc #    Borough House #       Street Name   Block  \\\n",
       "0   874889  120653417      1  MANHATTAN    1817           2ND AVE  1540.0   \n",
       "1   196474  402326595      1     QUEENS    5005         31 AVENUE   752.0   \n",
       "2  1467329  104288245      1  MANHATTAN     157  WEST   85 STREET  1216.0   \n",
       "3  1198381  421344833      1     QUEENS   61-25       98TH STREET  2093.0   \n",
       "4   943912  320528185      1   BROOKLYN     237  PARKVILLE AVENUE  5424.0   \n",
       "\n",
       "    Lot    Bin # Job Type    ...     SPECIAL_ACTION_STATUS  \\\n",
       "0  22.0  1049222       A2    ...                         N   \n",
       "1   1.0  4014094       A2    ...                         N   \n",
       "2   8.0  1032143       A2    ...                         N   \n",
       "3   1.0  4431961       A2    ...                         N   \n",
       "4  77.0  3127947       A1    ...                         N   \n",
       "\n",
       "  SPECIAL_ACTION_DATE BUILDING_CLASS JOB_NO_GOOD_COUNT  GIS_LATITUDE  \\\n",
       "0                None             C7                 0     40.783041   \n",
       "1                None             W1                 0     40.757499   \n",
       "2                None             C5                 0     40.786473   \n",
       "3                None             D4                 0     40.734257   \n",
       "4                None             A5                 0     40.631530   \n",
       "\n",
       "  GIS_LONGITUDE GIS_COUNCIL_DISTRICT GIS_CENSUS_TRACT     GIS_NTA_NAME  \\\n",
       "0    -73.947981                  5.0          15601.0        Yorkville   \n",
       "1    -73.908898                 22.0            163.0          Astoria   \n",
       "2    -73.974231                  6.0            169.0  Upper West Side   \n",
       "3    -73.860517                 29.0          71702.0        Rego Park   \n",
       "4    -73.970112                 40.0            482.0         Flatbush   \n",
       "\n",
       "     GIS_BIN  \n",
       "0  1049222.0  \n",
       "1  4014094.0  \n",
       "2  1032143.0  \n",
       "3  4431961.0  \n",
       "4  3127947.0  \n",
       "\n",
       "[5 rows x 97 columns]"
      ]
     },
     "execution_count": 15,
     "metadata": {},
     "output_type": "execute_result"
    }
   ],
   "source": [
    "plumbing.head()"
   ]
  },
  {
   "cell_type": "code",
   "execution_count": 16,
   "metadata": {
    "slideshow": {
     "slide_type": "slide"
    }
   },
   "outputs": [],
   "source": [
    "## Plot the initial cost histogram\n",
    "plumbing['Initial Cost'] = plumbing['Initial Cost'].map(lambda x: int(x[1:-3]))"
   ]
  },
  {
   "cell_type": "code",
   "execution_count": 28,
   "metadata": {
    "slideshow": {
     "slide_type": "fragment"
    }
   },
   "outputs": [
    {
     "data": {
      "text/plain": [
       "<matplotlib.axes._subplots.AxesSubplot at 0x7f4bd2aee0f0>"
      ]
     },
     "execution_count": 28,
     "metadata": {},
     "output_type": "execute_result"
    },
    {
     "data": {
      "image/png": "[encoded data removed]",
      "text/plain": [
       "<Figure size 432x288 with 1 Axes>"
      ]
     },
     "metadata": {
      "needs_background": "light"
     },
     "output_type": "display_data"
    }
   ],
   "source": [
    "plumbing.plot(y = 'Initial Cost',kind='hist',bins=20)"
   ]
  },
  {
   "cell_type": "code",
   "execution_count": 18,
   "metadata": {
    "slideshow": {
     "slide_type": "slide"
    }
   },
   "outputs": [],
   "source": [
    "## Detect some missingness\n",
    "query = \"\"\"select \"Owner's Business Name\", count(*) as count from jobs \n",
    "    where \"Owner's Business Name\"!=\" \" \n",
    "    group by \"Owner's Business Name\" \n",
    "    limit 1000\"\"\"\n",
    "owner_counts = pd.read_sql_query(query,nyc_conn)"
   ]
  },
  {
   "cell_type": "code",
   "execution_count": 19,
   "metadata": {
    "slideshow": {
     "slide_type": "fragment"
    }
   },
   "outputs": [
    {
     "data": {
      "text/html": [
       "<div>\n",
       "<style scoped>\n",
       "    .dataframe tbody tr th:only-of-type {\n",
       "        vertical-align: middle;\n",
       "    }\n",
       "\n",
       "    .dataframe tbody tr th {\n",
       "        vertical-align: top;\n",
       "    }\n",
       "\n",
       "    .dataframe thead th {\n",
       "        text-align: right;\n",
       "    }\n",
       "</style>\n",
       "<table border=\"1\" class=\"dataframe\">\n",
       "  <thead>\n",
       "    <tr style=\"text-align: right;\">\n",
       "      <th></th>\n",
       "      <th>Owner's Business Name</th>\n",
       "      <th>count</th>\n",
       "    </tr>\n",
       "  </thead>\n",
       "  <tbody>\n",
       "    <tr>\n",
       "      <th>0</th>\n",
       "      <td># 1 DUMPLING</td>\n",
       "      <td>1</td>\n",
       "    </tr>\n",
       "    <tr>\n",
       "      <th>1</th>\n",
       "      <td># 2 PALISA</td>\n",
       "      <td>1</td>\n",
       "    </tr>\n",
       "    <tr>\n",
       "      <th>2</th>\n",
       "      <td># 3 Gamercy Park Ass.</td>\n",
       "      <td>1</td>\n",
       "    </tr>\n",
       "    <tr>\n",
       "      <th>3</th>\n",
       "      <td>#1 CHINESE</td>\n",
       "      <td>1</td>\n",
       "    </tr>\n",
       "    <tr>\n",
       "      <th>4</th>\n",
       "      <td>#1 CHINESE REST</td>\n",
       "      <td>1</td>\n",
       "    </tr>\n",
       "  </tbody>\n",
       "</table>\n",
       "</div>"
      ],
      "text/plain": [
       "   Owner's Business Name  count\n",
       "0           # 1 DUMPLING      1\n",
       "1             # 2 PALISA      1\n",
       "2  # 3 Gamercy Park Ass.      1\n",
       "3             #1 CHINESE      1\n",
       "4        #1 CHINESE REST      1"
      ]
     },
     "execution_count": 19,
     "metadata": {},
     "output_type": "execute_result"
    }
   ],
   "source": [
    "owner_counts.head()"
   ]
  },
  {
   "cell_type": "code",
   "execution_count": 29,
   "metadata": {
    "slideshow": {
     "slide_type": "slide"
    }
   },
   "outputs": [
    {
     "data": {
      "text/plain": [
       "2957"
      ]
     },
     "execution_count": 29,
     "metadata": {},
     "output_type": "execute_result"
    }
   ],
   "source": [
    "owner_counts['count'].max()"
   ]
  },
  {
   "cell_type": "code",
   "execution_count": 21,
   "metadata": {
    "slideshow": {
     "slide_type": "fragment"
    }
   },
   "outputs": [
    {
     "data": {
      "text/plain": [
       "2"
      ]
     },
     "execution_count": 21,
     "metadata": {},
     "output_type": "execute_result"
    }
   ],
   "source": [
    "(owner_counts['count'] > 1000).sum()"
   ]
  },
  {
   "cell_type": "code",
   "execution_count": 20,
   "metadata": {
    "slideshow": {
     "slide_type": "fragment"
    }
   },
   "outputs": [
    {
     "data": {
      "image/png": "[encoded data removed]",
      "text/plain": [
       "<Figure size 432x288 with 1 Axes>"
      ]
     },
     "metadata": {
      "needs_background": "light"
     },
     "output_type": "display_data"
    }
   ],
   "source": [
    "_ = owner_counts.plot(y=\"count\",kind='hist',bins=20)"
   ]
  }
 ],
 "metadata": {
  "celltoolbar": "Slideshow",
  "kernelspec": {
   "display_name": "Python 3",
   "language": "python",
   "name": "python3"
  },
  "language_info": {
   "codemirror_mode": {
    "name": "ipython",
    "version": 3
   },
   "file_extension": ".py",
   "mimetype": "text/x-python",
   "name": "python",
   "nbconvert_exporter": "python",
   "pygments_lexer": "ipython3",
   "version": "3.8.8"
  }
 },
 "nbformat": 4,
 "nbformat_minor": 2
}
